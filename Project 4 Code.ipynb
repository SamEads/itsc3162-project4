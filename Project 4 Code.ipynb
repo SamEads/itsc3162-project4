{
 "cells": [
  {
   "cell_type": "markdown",
   "id": "c6989778-23bf-4a41-9624-743d4f04f605",
   "metadata": {},
   "source": [
    "# Pre-processing"
   ]
  },
  {
   "cell_type": "code",
   "execution_count": 3,
   "id": "4cb61bdb-763f-4016-b717-1e05e6b076a0",
   "metadata": {},
   "outputs": [
    {
     "name": "stdout",
     "output_type": "stream",
     "text": [
      "<class 'pandas.core.frame.DataFrame'>\n",
      "RangeIndex: 23463 entries, 0 to 23462\n",
      "Data columns (total 12 columns):\n",
      " #   Column              Non-Null Count  Dtype \n",
      "---  ------              --------------  ----- \n",
      " 0   country_name        23036 non-null  object\n",
      " 1   city_name           23462 non-null  object\n",
      " 2   aqi_value           23463 non-null  int64 \n",
      " 3   aqi_category        23463 non-null  object\n",
      " 4   co_aqi_value\t       23463 non-null  int64 \n",
      " 5   co_aqi_category     23463 non-null  object\n",
      " 6   ozone_aqi_value     23463 non-null  int64 \n",
      " 7   ozone_aqi_category  23463 non-null  object\n",
      " 8   no2_aqi_value       23463 non-null  int64 \n",
      " 9   no2_aqi_category    23463 non-null  object\n",
      " 10  pm2.5_aqi_value     23463 non-null  int64 \n",
      " 11  pm2.5_aqi_category  23463 non-null  object\n",
      "dtypes: int64(5), object(7)\n",
      "memory usage: 2.1+ MB\n"
     ]
    },
    {
     "data": {
      "text/plain": [
       "(         country_name         city_name  aqi_value aqi_category  \\\n",
       " 0  Russian Federation        Praskoveya         51     Moderate   \n",
       " 1              Brazil  Presidente Dutra         41         Good   \n",
       " 2               Italy   Priolo Gargallo         66     Moderate   \n",
       " 3              Poland         Przasnysz         34         Good   \n",
       " 4              France          Punaauia         22         Good   \n",
       " \n",
       "    co_aqi_value\\t co_aqi_category  ozone_aqi_value ozone_aqi_category  \\\n",
       " 0               1            Good               36               Good   \n",
       " 1               1            Good                5               Good   \n",
       " 2               1            Good               39               Good   \n",
       " 3               1            Good               34               Good   \n",
       " 4               0            Good               22               Good   \n",
       " \n",
       "    no2_aqi_value no2_aqi_category  pm2.5_aqi_value pm2.5_aqi_category  \n",
       " 0              0             Good               51           Moderate  \n",
       " 1              1             Good               41               Good  \n",
       " 2              2             Good               66           Moderate  \n",
       " 3              0             Good               20               Good  \n",
       " 4              0             Good                6               Good  ,\n",
       " None)"
      ]
     },
     "execution_count": 3,
     "metadata": {},
     "output_type": "execute_result"
    }
   ],
   "source": [
    "import pandas\n",
    "\n",
    "file_path = '/mnt/data/global_air_pollution_data.csv'\n",
    "data = pandas.read_csv('global_air_pollution_data.csv')\n",
    "data.head(), data.info()"
   ]
  },
  {
   "cell_type": "code",
   "execution_count": 4,
   "id": "a2b9633d-938c-458d-9721-24ad8095ab82",
   "metadata": {},
   "outputs": [
    {
     "data": {
      "text/plain": [
       "Index(['country_name', 'city_name', 'aqi_value', 'aqi_category',\n",
       "       'co_aqi_value', 'co_aqi_category', 'ozone_aqi_value',\n",
       "       'ozone_aqi_category', 'no2_aqi_value', 'no2_aqi_category',\n",
       "       'pm2.5_aqi_value', 'pm2.5_aqi_category'],\n",
       "      dtype='object')"
      ]
     },
     "execution_count": 4,
     "metadata": {},
     "output_type": "execute_result"
    }
   ],
   "source": [
    "# have to correct a formatting issue first\n",
    "data.rename(columns={\"co_aqi_value\\t\": \"co_aqi_value\"}, inplace=True)\n",
    "data.columns"
   ]
  },
  {
   "cell_type": "code",
   "execution_count": 5,
   "id": "cce69708-7523-49f3-a6c1-22291f659462",
   "metadata": {},
   "outputs": [],
   "source": [
    "missing_values = data.isnull().sum()\n",
    "data_cleaned = data.dropna(subset=['country_name'])\n",
    "aqi_columns = ['aqi_value', 'co_aqi_value', 'ozone_aqi_value', 'no2_aqi_value', 'pm2.5_aqi_value']"
   ]
  },
  {
   "cell_type": "code",
   "execution_count": 24,
   "id": "d85d7718-8026-4af1-90f5-fd29f827b0f7",
   "metadata": {},
   "outputs": [],
   "source": [
    "from sklearn.preprocessing import MinMaxScaler\n",
    "scaler = MinMaxScaler()\n",
    "# data_cleaned[aqi_columns] = scaler.fit_transform(data_cleaned[aqi_columns])\n",
    "data_cleaned.loc[:, aqi_columns] = scaler.fit_transform(data_cleaned[aqi_columns])\n",
    "# ^^^^ Had to use the ol' GPT to make this horrendous mess unfortunately.\n",
    "# Very sorry, but the compiler was getting very angry (... with warnings) due to the line above it!"
   ]
  },
  {
   "cell_type": "code",
   "execution_count": 11,
   "id": "9372f49a-9526-4dfb-8469-4a99ee733c95",
   "metadata": {},
   "outputs": [],
   "source": [
    "categorical_columns = ['aqi_category', 'co_aqi_category', 'ozone_aqi_category', 'no2_aqi_category', 'pm2.5_aqi_category']\n",
    "data_encoded = pandas.get_dummies(data_cleaned, columns=categorical_columns, drop_first=True)"
   ]
  },
  {
   "cell_type": "code",
   "execution_count": 12,
   "id": "4949f108-baea-4066-ab1c-67296b502e0d",
   "metadata": {},
   "outputs": [],
   "source": [
    "outliers = data_cleaned[aqi_columns].describe(percentiles=[0.01, 0.99])"
   ]
  },
  {
   "cell_type": "code",
   "execution_count": 14,
   "id": "1a1d7716-829e-4be6-a4be-5238bdf61709",
   "metadata": {},
   "outputs": [
    {
     "name": "stdout",
     "output_type": "stream",
     "text": [
      "<class 'pandas.core.frame.DataFrame'>\n",
      "Index: 23036 entries, 0 to 23462\n",
      "Data columns (total 5 columns):\n",
      " #   Column           Non-Null Count  Dtype  \n",
      "---  ------           --------------  -----  \n",
      " 0   aqi_value        23036 non-null  float64\n",
      " 1   co_aqi_value     23036 non-null  float64\n",
      " 2   ozone_aqi_value  23036 non-null  float64\n",
      " 3   no2_aqi_value    23036 non-null  float64\n",
      " 4   pm2.5_aqi_value  23036 non-null  float64\n",
      "dtypes: float64(5)\n",
      "memory usage: 1.1 MB\n"
     ]
    },
    {
     "data": {
      "text/html": [
       "<div>\n",
       "<style scoped>\n",
       "    .dataframe tbody tr th:only-of-type {\n",
       "        vertical-align: middle;\n",
       "    }\n",
       "\n",
       "    .dataframe tbody tr th {\n",
       "        vertical-align: top;\n",
       "    }\n",
       "\n",
       "    .dataframe thead th {\n",
       "        text-align: right;\n",
       "    }\n",
       "</style>\n",
       "<table border=\"1\" class=\"dataframe\">\n",
       "  <thead>\n",
       "    <tr style=\"text-align: right;\">\n",
       "      <th></th>\n",
       "      <th>aqi_value</th>\n",
       "      <th>co_aqi_value</th>\n",
       "      <th>ozone_aqi_value</th>\n",
       "      <th>no2_aqi_value</th>\n",
       "      <th>pm2.5_aqi_value</th>\n",
       "    </tr>\n",
       "  </thead>\n",
       "  <tbody>\n",
       "    <tr>\n",
       "      <th>0</th>\n",
       "      <td>0.091093</td>\n",
       "      <td>0.007519</td>\n",
       "      <td>0.153191</td>\n",
       "      <td>0.000000</td>\n",
       "      <td>0.102</td>\n",
       "    </tr>\n",
       "    <tr>\n",
       "      <th>1</th>\n",
       "      <td>0.070850</td>\n",
       "      <td>0.007519</td>\n",
       "      <td>0.021277</td>\n",
       "      <td>0.010989</td>\n",
       "      <td>0.082</td>\n",
       "    </tr>\n",
       "    <tr>\n",
       "      <th>2</th>\n",
       "      <td>0.121457</td>\n",
       "      <td>0.007519</td>\n",
       "      <td>0.165957</td>\n",
       "      <td>0.021978</td>\n",
       "      <td>0.132</td>\n",
       "    </tr>\n",
       "    <tr>\n",
       "      <th>3</th>\n",
       "      <td>0.056680</td>\n",
       "      <td>0.007519</td>\n",
       "      <td>0.144681</td>\n",
       "      <td>0.000000</td>\n",
       "      <td>0.040</td>\n",
       "    </tr>\n",
       "    <tr>\n",
       "      <th>4</th>\n",
       "      <td>0.032389</td>\n",
       "      <td>0.000000</td>\n",
       "      <td>0.093617</td>\n",
       "      <td>0.000000</td>\n",
       "      <td>0.012</td>\n",
       "    </tr>\n",
       "  </tbody>\n",
       "</table>\n",
       "</div>"
      ],
      "text/plain": [
       "   aqi_value  co_aqi_value  ozone_aqi_value  no2_aqi_value  pm2.5_aqi_value\n",
       "0   0.091093      0.007519         0.153191       0.000000            0.102\n",
       "1   0.070850      0.007519         0.021277       0.010989            0.082\n",
       "2   0.121457      0.007519         0.165957       0.021978            0.132\n",
       "3   0.056680      0.007519         0.144681       0.000000            0.040\n",
       "4   0.032389      0.000000         0.093617       0.000000            0.012"
      ]
     },
     "execution_count": 14,
     "metadata": {},
     "output_type": "execute_result"
    }
   ],
   "source": [
    "numeric_features = [\n",
    "    'aqi_value', \n",
    "    'co_aqi_value', \n",
    "    'ozone_aqi_value', \n",
    "    'no2_aqi_value', \n",
    "    'pm2.5_aqi_value'\n",
    "]\n",
    "\n",
    "data_for_clustering = data_encoded[numeric_features]\n",
    "data_for_clustering.info()\n",
    "data_for_clustering = data_for_clustering.dropna()\n",
    "data_for_clustering.head()"
   ]
  },
  {
   "cell_type": "markdown",
   "id": "273dc88f-d706-4aac-a37a-751c8e3d17b9",
   "metadata": {},
   "source": [
    "# Clustering"
   ]
  },
  {
   "cell_type": "code",
   "execution_count": 16,
   "id": "ce30eed9-710f-4d48-88da-179b8c639232",
   "metadata": {},
   "outputs": [
    {
     "data": {
      "image/png": "[encoded data removed]",
      "text/plain": [
       "<Figure size 800x500 with 1 Axes>"
      ]
     },
     "metadata": {},
     "output_type": "display_data"
    }
   ],
   "source": [
    "from sklearn.preprocessing import StandardScaler\n",
    "from sklearn.cluster import KMeans\n",
    "import matplotlib.pyplot as pp\n",
    "\n",
    "# (gotta filter the data to only include the numeric features)\n",
    "numeric_features = [\n",
    "    'aqi_value', \n",
    "    'co_aqi_value', \n",
    "    'ozone_aqi_value', \n",
    "    'no2_aqi_value', \n",
    "    'pm2.5_aqi_value'\n",
    "]\n",
    "data_numeric = data_encoded[numeric_features]\n",
    "\n",
    "# missing vals\n",
    "data_numeric = data_numeric.dropna()\n",
    "\n",
    "# standardize data\n",
    "scaler = StandardScaler()\n",
    "data_scaled = scaler.fit_transform(data_numeric)\n",
    "\n",
    "inertia = []\n",
    "cluster_range = range(1, 11)\n",
    "\n",
    "for i in cluster_range:\n",
    "    kmeans = KMeans(n_clusters=i, n_init=10)\n",
    "    kmeans.fit(data_scaled)\n",
    "    inertia.append(kmeans.inertia_)\n",
    "\n",
    "pp.figure(figsize=(8, 5))\n",
    "pp.plot(cluster_range, inertia, marker='o', linestyle='--')\n",
    "pp.title(\"Elbow Method for Optimal K (K-Means)\")\n",
    "pp.xlabel(\"Number of Clusters (K)\")\n",
    "pp.ylabel(\"Inertia\")\n",
    "pp.xticks(cluster_range)\n",
    "pp.grid()\n",
    "pp.show()"
   ]
  }
 ],
 "metadata": {
  "kernelspec": {
   "display_name": "Python 3 (ipykernel)",
   "language": "python",
   "name": "python3"
  },
  "language_info": {
   "codemirror_mode": {
    "name": "ipython",
    "version": 3
   },
   "file_extension": ".py",
   "mimetype": "text/x-python",
   "name": "python",
   "nbconvert_exporter": "python",
   "pygments_lexer": "ipython3",
   "version": "3.12.4"
  }
 },
 "nbformat": 4,
 "nbformat_minor": 5
}
